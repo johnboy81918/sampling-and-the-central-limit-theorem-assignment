{
 "cells": [
  {
   "cell_type": "code",
   "execution_count": 1,
   "metadata": {},
   "outputs": [],
   "source": [
    "import numpy as np\n",
    "import pandas as pd\n",
    "import scipy\n",
    "import matplotlib.pyplot as plt\n",
    "%matplotlib inline"
   ]
  },
  {
   "cell_type": "code",
   "execution_count": 2,
   "metadata": {},
   "outputs": [
    {
     "name": "stdout",
     "output_type": "stream",
     "text": [
      "2.13\n",
      "4.87\n",
      "1.4046707799338607\n",
      "1.8366001197865582\n"
     ]
    }
   ],
   "source": [
    "pop1 = np.random.binomial(10, 0.2, 10000)\n",
    "pop2 = np.random.binomial(10, 0.5, 10000)\n",
    "sample1 = np.random.choice(pop1, 100, replace=True)\n",
    "sample2 = np.random.choice(pop2, 100, replace=True)\n",
    "print(sample1.mean())\n",
    "print(sample2.mean())\n",
    "print(sample1.std())\n",
    "print(sample2.std())"
   ]
  },
  {
   "cell_type": "markdown",
   "metadata": {},
   "source": [
    "Change sample size to 1000 - the mean should be closer to the true mean, while the std shouldn't change."
   ]
  },
  {
   "cell_type": "code",
   "execution_count": 3,
   "metadata": {},
   "outputs": [
    {
     "name": "stdout",
     "output_type": "stream",
     "text": [
      "2.044\n",
      "4.946\n",
      "1.209158384993463\n",
      "1.6053298726430028\n"
     ]
    },
    {
     "data": {
      "image/png": "[encoded data removed]",
      "text/plain": [
       "<Figure size 432x288 with 1 Axes>"
      ]
     },
     "metadata": {
      "needs_background": "light"
     },
     "output_type": "display_data"
    }
   ],
   "source": [
    "large_sample1 = np.random.choice(pop1, 1000, replace=True)\n",
    "large_sample2 = np.random.choice(pop2, 1000, replace=True)\n",
    "print(large_sample1.mean())\n",
    "print(large_sample2.mean())\n",
    "print(large_sample1.std())\n",
    "print(large_sample2.std())\n",
    "plt.hist(large_sample1, alpha = 0.5)\n",
    "plt.hist(large_sample2, alpha = 0.5)\n",
    "plt.show()"
   ]
  },
  {
   "cell_type": "markdown",
   "metadata": {},
   "source": [
    "Change sample size to 20 - the mean will probably be further from the true mean, std should still remain the same."
   ]
  },
  {
   "cell_type": "code",
   "execution_count": 4,
   "metadata": {},
   "outputs": [
    {
     "name": "stdout",
     "output_type": "stream",
     "text": [
      "1.5\n",
      "5.55\n",
      "1.02469507659596\n",
      "1.5960889699512368\n"
     ]
    },
    {
     "data": {
      "image/png": "[encoded data removed]",
      "text/plain": [
       "<Figure size 432x288 with 1 Axes>"
      ]
     },
     "metadata": {
      "needs_background": "light"
     },
     "output_type": "display_data"
    }
   ],
   "source": [
    "small_sample1 = np.random.choice(pop1, 20, replace=True)\n",
    "small_sample2 = np.random.choice(pop2, 20, replace=True)\n",
    "print(small_sample1.mean())\n",
    "print(small_sample2.mean())\n",
    "print(small_sample1.std())\n",
    "print(small_sample2.std())\n",
    "plt.hist(small_sample1, alpha = 0.5)\n",
    "plt.hist(small_sample2, alpha = 0.5)\n",
    "plt.show()"
   ]
  },
  {
   "cell_type": "code",
   "execution_count": 5,
   "metadata": {},
   "outputs": [],
   "source": [
    "pop3 = np.random.binomial(10, 0.3, 10000)\n",
    "sample3 = np.random.choice(pop3, 100, replace=True)\n",
    "large_sample3 = np.random.choice(pop3, 1000, replace=True)\n",
    "small_sample3 = np.random.choice(pop3, 20, replace=True)"
   ]
  },
  {
   "cell_type": "code",
   "execution_count": 6,
   "metadata": {},
   "outputs": [
    {
     "name": "stdout",
     "output_type": "stream",
     "text": [
      "Ttest_indResult(statistic=8.927031956574353, pvalue=4.63765145628946e-16)\n",
      "Ttest_indResult(statistic=28.179346709247948, pvalue=2.6604198434596004e-147)\n",
      "Ttest_indResult(statistic=6.210748870669854, pvalue=2.9476732517803343e-07)\n"
     ]
    }
   ],
   "source": [
    "from scipy.stats import ttest_ind\n",
    "print(ttest_ind(sample2, sample3, equal_var=False))\n",
    "print(ttest_ind(large_sample2, large_sample3, equal_var=False))\n",
    "print(ttest_ind(small_sample2, small_sample3, equal_var=False))"
   ]
  },
  {
   "cell_type": "code",
   "execution_count": 7,
   "metadata": {},
   "outputs": [
    {
     "name": "stdout",
     "output_type": "stream",
     "text": [
      "Ttest_indResult(statistic=3.7254227434034703, pvalue=0.00025484353981729117)\n",
      "Ttest_indResult(statistic=13.757102747473299, pvalue=3.285803853492944e-41)\n",
      "Ttest_indResult(statistic=3.4644170927227753, pvalue=0.0013457176189556846)\n"
     ]
    }
   ],
   "source": [
    "pop4 = np.random.binomial(10, 0.4, 10000)\n",
    "sample4 = np.random.choice(pop4, 100, replace=True)\n",
    "large_sample4 = np.random.choice(pop4, 1000, replace=True)\n",
    "small_sample4 = np.random.choice(pop4, 20, replace=True)\n",
    "print(ttest_ind(sample2, sample4, equal_var=False))\n",
    "print(ttest_ind(large_sample2, large_sample4, equal_var=False))\n",
    "print(ttest_ind(small_sample2, small_sample4, equal_var=False))"
   ]
  },
  {
   "cell_type": "markdown",
   "metadata": {},
   "source": [
    "If the distribution is changed, the basic sample statistics can still be representative of the population *if* the sample is large enough (this is the primary tenet of the Central Limit Theorem)."
   ]
  }
 ],
 "metadata": {
  "kernelspec": {
   "display_name": "Python 3",
   "language": "python",
   "name": "python3"
  },
  "language_info": {
   "codemirror_mode": {
    "name": "ipython",
    "version": 3
   },
   "file_extension": ".py",
   "mimetype": "text/x-python",
   "name": "python",
   "nbconvert_exporter": "python",
   "pygments_lexer": "ipython3",
   "version": "3.7.2"
  }
 },
 "nbformat": 4,
 "nbformat_minor": 2
}
